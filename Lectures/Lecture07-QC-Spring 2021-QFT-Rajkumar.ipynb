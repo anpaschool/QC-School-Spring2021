{
 "cells": [
  {
   "cell_type": "markdown",
   "metadata": {},
   "source": [
    "<h1 align=\"center\">\n",
    "<span style=\"color: red;\">$\\textbf{Quantum Fourier Transformation}$</center>\n",
    "</h1>"
   ]
  },
  {
   "cell_type": "markdown",
   "metadata": {},
   "source": [
    "# Defination\n",
    "Quantum fourier transformation is the change of basis from the computational basis to the fourier basis where computational state are $\\vert 0\\rangle$  and $\\vert 1\\rangle$ state while fourier basis for one bit are $\\vert+\\rangle$ and $\\vert -\\rangle$.\n",
    "\n",
    "$|\\text{State in Computational Basis}\\rangle \\quad \\xrightarrow[]{\\text{QFT}} \\quad |\\text{State in Fourier Basis}\\rangle$\n",
    "\n",
    "\n",
    "The quantum Fourier transform (QFT) is the quantum implementation of the discrete Fourier transform over the amplitudes of a wavefunction.\n",
    " \n",
    "\n",
    "The discrete Fourier transform acts on a vector $(x_0, ..., x_{N-1})$ and maps it to the vector $(y_0, ..., y_{N-1})$ according to the formula\n",
    "\n",
    "\n",
    "$$y_k = \\frac{1}{\\sqrt{N}}\\sum_{j=0}^{N-1}x_j\\omega_N^{jk}$$\n",
    "\n",
    "\n",
    "where $\\omega_N^{jk} = e^{2\\pi i \\frac{jk}{N}}$ is the phase.\n",
    "\n",
    "Similarly, the quantum Fourier transform acts on a quantum state $\\sum_{i=0}^{N-1} x_i \\vert i \\rangle$ and maps it to the quantum state $\\sum_{i=0}^{N-1} y_i \\vert i \\rangle$ according to the formula\n",
    "\n",
    "\n",
    "$$y_k = \\frac{1}{\\sqrt{N}}\\sum_{j=0}^{N-1}x_j\\omega_N^{jk}$$\n",
    "\n",
    "\n",
    "with $\\omega_N^{jk}$ defined as above. Note that only the amplitudes of the state were affected by this transformation.\n",
    "\n",
    "This can also be expressed as the map:\n",
    "\n",
    "\n",
    "$$\\vert x \\rangle \\mapsto \\frac{1}{\\sqrt{N}}\\sum_{y=0}^{N-1}\\omega_N^{xy} \\vert y \\rangle$$\n",
    "\n",
    "\n",
    "Or the unitary matrix:\n",
    "\n",
    "$$ U_{QFT} = \\frac{1}{\\sqrt{N}} \\sum_{x=0}^{N-1} \\sum_{y=0}^{N-1} \\omega_N^{xy} \\vert y \\rangle \\langle x \\vert$$"
   ]
  },
  {
   "cell_type": "markdown",
   "metadata": {},
   "source": [
    "## Example 1: 1-qubit QFT\n",
    "\n",
    "Consider how the QFT operator as defined above acts on a single qubit state $\\vert\\psi\\rangle = \\alpha \\vert 0 \\rangle + \\beta \\vert 1 \\rangle$. In this case, $x_0 = \\alpha$, $x_1 = \\beta$, and $N = 2$. Then,\n",
    "\n",
    "\n",
    "\n",
    "$$y_0 = \\frac{1}{\\sqrt{2}}\\left(    \\alpha \\exp\\left(2\\pi i\\frac{0\\times0}{2}\\right) + \\beta \\exp\\left(2\\pi i\\frac{1\\times0}{2}\\right)      \\right) = \\frac{1}{\\sqrt{2}}\\left(\\alpha + \\beta\\right)$$\n",
    "\n",
    "and\n",
    "\n",
    "\n",
    "$$y_1 = \\frac{1}{\\sqrt{2}}\\left(    \\alpha \\exp\\left(2\\pi i\\frac{0\\times1}{2}\\right) + \\beta \\exp\\left(2\\pi i\\frac{1\\times1}{2}\\right)      \\right) = \\frac{1}{\\sqrt{2}}\\left(\\alpha - \\beta\\right)$$\n",
    "\n",
    "\n",
    "\n",
    "such that the final result is the state \n",
    "\n",
    "\n",
    "\n",
    "$$U_{QFT}\\vert\\psi\\rangle = \\frac{1}{\\sqrt{2}}(\\alpha + \\beta) \\vert 0 \\rangle + \\frac{1}{\\sqrt{2}}(\\alpha - \\beta)  \\vert 1 \\rangle$$\n",
    "\n",
    "\n",
    "\n",
    "This operation is exactly the result of applying the Hadamard operator ($H$) on the qubit:\n",
    "\n",
    "\n",
    "\n",
    "$$H = \\frac{1}{\\sqrt{2}}\\begin{bmatrix} 1 & 1 \\\\ 1 & -1 \\end{bmatrix}$$\n",
    "\n",
    "\n",
    "\n",
    "If we apply the $H$ operator to the state $\\vert\\psi\\rangle = \\alpha \\vert 0 \\rangle + \\beta \\vert 1 \\rangle$, we obtain the new state:\n",
    "\n",
    "$$\\frac{1}{\\sqrt{2}}(\\alpha + \\beta) \\vert 0 \\rangle + \\frac{1}{\\sqrt{2}}(\\alpha - \\beta)  \\vert 1 \\rangle \n",
    "\\equiv \\tilde{\\alpha}\\vert 0 \\rangle + \\tilde{\\beta}\\vert 1 \\rangle$$\n",
    "\n",
    "Notice how the Hadamard gate performs the discrete Fourier transform for $N = 2$ on the amplitudes of the state. "
   ]
  },
  {
   "cell_type": "markdown",
   "metadata": {},
   "source": [
    "## 5. The Circuit that Implements the QFT \n",
    "\n",
    "\n",
    "The circuit that implements QFT makes use of three gates. The first one is a single-qubit Hadamard gate, $H$. The second is a two-qubit controlled rotation $CROT_k$ and the third is swap gate.\n",
    "\n",
    "$H\\vert x_k \\rangle = \\frac{1}{\\sqrt{2}}\\left(\\vert0\\rangle + \\exp\\left(\\frac{2\\pi i}{2}x_k\\right)\\vert1\\rangle\\right)$\n",
    "\n",
    "$UROT_k = \\left[\\begin{matrix}\n",
    "1&0\\\\\n",
    "0&\\exp\\left(\\frac{2\\pi i}{2^k}\\right)\\\\\n",
    "\\end{matrix}\\right]$\n",
    "\n",
    "Given these two gates, a circuit that implements **an n-qubit QFT** is shown below.\n",
    "\n",
    "![image1](../figures/qft_circuit.png)\n",
    "\n",
    "\n",
    "The circuit operates as follows. We start with an n-qubit input state $\\vert x_1x_2\\ldots x_n\\rangle$.\n",
    "\n",
    "<ol>\n",
    "<li> After the first Hadamard gate on qubit 1, the state is transformed from the input state to \n",
    "\n",
    "$$\n",
    "H_1\\vert x_1x_2\\ldots x_n\\rangle = \n",
    "\\frac{1}{\\sqrt{2}}\n",
    "\\left[\\vert0\\rangle + \\exp\\left(\\frac{2\\pi i}{2}x_1\\right)\\vert1\\rangle\\right]\n",
    "\\otimes\n",
    "\\vert x_2x_3\\ldots x_n\\rangle\n",
    "$$\n",
    "\n",
    "<li> After the $UROT_2$ gate on qubit 1 controlled by qubit 2, the state is transformed to\n",
    "\n",
    "$$\n",
    "\\frac{1}{\\sqrt{2}}\n",
    "\\left[\\vert0\\rangle + \\exp\\left(\\frac{2\\pi i}{2^2}x_2 + \\frac{2\\pi i}{2}x_1\\right)\\vert1\\rangle\\right]\n",
    "\\otimes\n",
    "\\vert x_2x_3\\ldots x_n\\rangle\n",
    "$$\n",
    "    \n",
    "Note in the bracket that the value of k is 2 (hence $2^2$) in the case of $x_2$ and 1 (hence $2^1$) for the case of $x_1$.\n",
    "\n",
    "<li> After the application of the last $UROT_n$ gate on qubit 1 controlled by qubit $n$, the state becomes\n",
    "\n",
    "$$\n",
    "\\frac{1}{\\sqrt{2}}\n",
    "\\left[\\vert0\\rangle + \n",
    "\\exp\\left(\n",
    "\\frac{2\\pi i}{2^n}x_n + \n",
    "\\frac{2\\pi i}{2^{n-1}}x_{n-1} + \n",
    "\\ldots + \n",
    "\\frac{2\\pi i}{2^2}x_2 + \n",
    "\\frac{2\\pi i}{2}x_1\n",
    "\\right)\n",
    "\\vert1\\rangle\\right]\n",
    "\\otimes\n",
    "\\vert x_2x_3\\ldots x_n\\rangle\n",
    "$$\n",
    "\n",
    "Noting that \n",
    "\n",
    "$$\n",
    "x = 2^{n-1}x_1 + 2^{n-2}x_2 + \\ldots + 2^1x_{n-1} + 2^0x_n\n",
    "$$\n",
    "\n",
    "we can write the above state as \n",
    "\n",
    "$$\n",
    "\\frac{1}{\\sqrt{2}}\n",
    "\\left[\\vert0\\rangle + \n",
    "\\exp\\left(\n",
    "\\frac{2\\pi i}{2^n}x \n",
    "\\right)\n",
    "\\vert1\\rangle\\right]\n",
    "\\otimes\n",
    "\\vert x_2x_3\\ldots x_n\\rangle\n",
    "$$\n",
    "\n",
    "<li> After the application of a similar sequence of gates for qubits $2\\ldots n$, we find the final state to be:\n",
    "\n",
    "$$\n",
    "\\frac{1}{\\sqrt{2}}\n",
    "\\left[\\vert0\\rangle + \n",
    "\\exp\\left(\n",
    "\\frac{2\\pi i}{2^n}x \n",
    "\\right)\n",
    "\\vert1\\rangle\\right]\n",
    "\\otimes\n",
    "\\frac{1}{\\sqrt{2}}\n",
    "\\left[\\vert0\\rangle + \n",
    "\\exp\\left(\n",
    "\\frac{2\\pi i}{2^{n-1}}x \n",
    "\\right)\n",
    "\\vert1\\rangle\\right]\n",
    "\\otimes\n",
    "\\ldots\n",
    "\\otimes\n",
    "\\frac{1}{\\sqrt{2}}\n",
    "\\left[\\vert0\\rangle + \n",
    "\\exp\\left(\n",
    "\\frac{2\\pi i}{2^{2}}x \n",
    "\\right)\n",
    "\\vert1\\rangle\\right]\n",
    "\\otimes\n",
    "\\frac{1}{\\sqrt{2}}\n",
    "\\left[\\vert0\\rangle + \n",
    "\\exp\\left(\n",
    "\\frac{2\\pi i}{2^{1}}x \n",
    "\\right)\n",
    "\\vert1\\rangle\\right]\n",
    "$$\n",
    "\n",
    "which is exactly the QFT of the input state as derived above with the caveat that the order of the qubits is reversed in the output state.\n",
    "</ol>"
   ]
  },
  {
   "cell_type": "markdown",
   "metadata": {},
   "source": [
    "## Qiskit Implementation"
   ]
  },
  {
   "cell_type": "code",
   "execution_count": 1,
   "metadata": {},
   "outputs": [],
   "source": [
    "import numpy as np\n",
    "import pylab as plt\n",
    "from numpy import pi\n",
    "\n",
    "from qiskit import QuantumCircuit, execute, Aer, IBMQ\n",
    "from qiskit.visualization import plot_histogram, plot_bloch_multivector\n"
   ]
  },
  {
   "cell_type": "code",
   "execution_count": 2,
   "metadata": {},
   "outputs": [],
   "source": [
    "qc = QuantumCircuit(3)"
   ]
  },
  {
   "cell_type": "markdown",
   "metadata": {},
   "source": [
    "### **Note**: Remember that Qiskit's least significant bit has the lowest index (0), thus the circuit will be mirrored through the horizontal in relation to the image in section 5. First, we apply a H-gate to qubit 2 :"
   ]
  },
  {
   "cell_type": "code",
   "execution_count": 3,
   "metadata": {},
   "outputs": [
    {
     "data": {
      "image/png": "[encoded data removed]",
      "text/plain": [
       "<Figure size 146.797x204.68 with 1 Axes>"
      ]
     },
     "metadata": {},
     "output_type": "display_data"
    },
    {
     "data": {
      "image/png": "[encoded data removed]",
      "text/plain": [
       "<Figure size 206.997x204.68 with 1 Axes>"
      ]
     },
     "metadata": {},
     "output_type": "display_data"
    }
   ],
   "source": [
    "qc = QuantumCircuit(3)\n",
    "qc.h(2)\n",
    "display( qc.draw('mpl') )\n",
    "\n",
    "# UROT_2 gate to x1 depending on x2\n",
    "qc.cp(pi/2, 1, 2) # CROT from qubit 1 to qubit 2 hence the angle: pi/2^{2-1}\n",
    "display ( qc.draw('mpl') )"
   ]
  },
  {
   "cell_type": "code",
   "execution_count": 4,
   "metadata": {},
   "outputs": [
    {
     "data": {
      "image/png": "[encoded data removed]",
      "text/plain": [
       "<Figure size 507.997x204.68 with 1 Axes>"
      ]
     },
     "metadata": {},
     "output_type": "display_data"
    }
   ],
   "source": [
    "qc.cp(pi/4, 0, 2) # CROT from qubit 2 to qubit 0 hence the angle: pi/2^{2-0\n",
    "\n",
    "# Repeat the process for 2 and 3 \n",
    "qc.h(1)  # Hadamard on 1\n",
    "qc.cp(pi/2, 0, 1) # CROT from qubit 0 to qubit 1 hence the angle: pi/2^{1-0}\n",
    "qc.h(0)  # Hadamard on 0\n",
    "\n",
    "# Now swap the qubit 0 and 2 to complete QFT. [NOT CLEAR TO ME]\n",
    "qc.swap(0,2)\n",
    "display ( qc.draw('mpl') )"
   ]
  },
  {
   "cell_type": "markdown",
   "metadata": {},
   "source": [
    "## General QFT Function"
   ]
  },
  {
   "cell_type": "code",
   "execution_count": 5,
   "metadata": {},
   "outputs": [
    {
     "data": {
      "image/png": "[encoded data removed]",
      "text/plain": [
       "<Figure size 327.397x264.88 with 1 Axes>"
      ]
     },
     "execution_count": 5,
     "metadata": {},
     "output_type": "execute_result"
    }
   ],
   "source": [
    "def qft_rotations(ckt, n):\n",
    "    if n == 0:\n",
    "        return ckt\n",
    "    n -= 1\n",
    "    ckt.h(n)\n",
    "    for qubit in range(n):\n",
    "        ckt.cp( pi/2**(n-qubit), qubit, n )\n",
    "\n",
    "qc = QuantumCircuit(4)\n",
    "qft_rotations(qc,4)\n",
    "qc.draw('mpl')"
   ]
  },
  {
   "cell_type": "code",
   "execution_count": 6,
   "metadata": {},
   "outputs": [
    {
     "data": {
      "image/png": "[encoded data removed]",
      "text/plain": [
       "<Figure size 688.597x264.88 with 1 Axes>"
      ]
     },
     "execution_count": 6,
     "metadata": {},
     "output_type": "execute_result"
    }
   ],
   "source": [
    "def qft_rotations(ckt, n):\n",
    "    if n == 0:\n",
    "        return ckt\n",
    "    n -= 1\n",
    "    ckt.h(n)\n",
    "    for qubit in range(n):\n",
    "        ckt.cp( pi/2**(n-qubit), qubit, n )\n",
    "        \n",
    "    qft_rotations(ckt, n)\n",
    "        \n",
    "qc = QuantumCircuit(4)\n",
    "qft_rotations(qc,4)\n",
    "qc.draw('mpl')"
   ]
  },
  {
   "cell_type": "code",
   "execution_count": 7,
   "metadata": {},
   "outputs": [
    {
     "ename": "ModuleNotFoundError",
     "evalue": "No module named 'numexpr'",
     "output_type": "error",
     "traceback": [
      "\u001b[0;31m---------------------------------------------------------------------------\u001b[0m",
      "\u001b[0;31mModuleNotFoundError\u001b[0m                       Traceback (most recent call last)",
      "\u001b[0;32m<ipython-input-7-4c5e6d415bc0>\u001b[0m in \u001b[0;36m<module>\u001b[0;34m\u001b[0m\n\u001b[0;32m----> 1\u001b[0;31m \u001b[0;32mfrom\u001b[0m \u001b[0mqiskit_textbook\u001b[0m\u001b[0;34m.\u001b[0m\u001b[0mwidgets\u001b[0m \u001b[0;32mimport\u001b[0m \u001b[0mscalable_circuit\u001b[0m\u001b[0;34m\u001b[0m\u001b[0;34m\u001b[0m\u001b[0m\n\u001b[0m\u001b[1;32m      2\u001b[0m \u001b[0mscalable_circuit\u001b[0m\u001b[0;34m(\u001b[0m\u001b[0mqft_rotations\u001b[0m\u001b[0;34m)\u001b[0m\u001b[0;34m\u001b[0m\u001b[0;34m\u001b[0m\u001b[0m\n",
      "\u001b[0;32m~/anaconda3/lib/python3.8/site-packages/qiskit_textbook/widgets/__init__.py\u001b[0m in \u001b[0;36m<module>\u001b[0;34m\u001b[0m\n\u001b[1;32m      5\u001b[0m \u001b[0;32mfrom\u001b[0m \u001b[0mqiskit\u001b[0m\u001b[0;34m.\u001b[0m\u001b[0mvisualization\u001b[0m \u001b[0;32mimport\u001b[0m \u001b[0mplot_bloch_vector\u001b[0m\u001b[0;34m\u001b[0m\u001b[0;34m\u001b[0m\u001b[0m\n\u001b[1;32m      6\u001b[0m \u001b[0;32mfrom\u001b[0m \u001b[0mnumpy\u001b[0m \u001b[0;32mimport\u001b[0m \u001b[0msqrt\u001b[0m\u001b[0;34m,\u001b[0m \u001b[0mcos\u001b[0m\u001b[0;34m,\u001b[0m \u001b[0msin\u001b[0m\u001b[0;34m,\u001b[0m \u001b[0mpi\u001b[0m\u001b[0;34m\u001b[0m\u001b[0;34m\u001b[0m\u001b[0m\n\u001b[0;32m----> 7\u001b[0;31m \u001b[0;32mimport\u001b[0m \u001b[0mnumexpr\u001b[0m\u001b[0;34m\u001b[0m\u001b[0;34m\u001b[0m\u001b[0m\n\u001b[0m\u001b[1;32m      8\u001b[0m \u001b[0;32mimport\u001b[0m \u001b[0mre\u001b[0m\u001b[0;34m\u001b[0m\u001b[0;34m\u001b[0m\u001b[0m\n\u001b[1;32m      9\u001b[0m \u001b[0;34m\u001b[0m\u001b[0m\n",
      "\u001b[0;31mModuleNotFoundError\u001b[0m: No module named 'numexpr'"
     ]
    }
   ],
   "source": [
    "\n",
    "from qiskit_textbook.widgets import scalable_circuit\n",
    "scalable_circuit(qft_rotations)"
   ]
  },
  {
   "cell_type": "code",
   "execution_count": null,
   "metadata": {},
   "outputs": [],
   "source": [
    "def swap_registers(ckt, n):\n",
    "    for qubit in range(n//2):\n",
    "        ckt.swap(qubit, n-qubit-1)\n",
    "    return ckt\n",
    "\n",
    "def qft(ckt, n):\n",
    "    qft_rotations(ckt, n)\n",
    "    swap_registers(ckt, n)\n",
    "    return ckt\n",
    "\n",
    "qc = QuantumCircuit(4)\n",
    "qft(qc, 4)\n",
    "qc.draw('mpl')"
   ]
  },
  {
   "cell_type": "markdown",
   "metadata": {},
   "source": [
    "## Testing the Circuit"
   ]
  },
  {
   "cell_type": "code",
   "execution_count": null,
   "metadata": {},
   "outputs": [],
   "source": [
    "print (f\"5 and it's binary: {bin(5)}\")"
   ]
  },
  {
   "cell_type": "code",
   "execution_count": null,
   "metadata": {},
   "outputs": [],
   "source": [
    "qc = QuantumCircuit(3)\n",
    "qc.x(0)\n",
    "qc.x(2)\n",
    "display(qc.draw('mpl'))\n",
    "backend = Aer.get_backend('statevector_simulator')\n",
    "sv = execute(qc, backend=backend).result().get_statevector()\n",
    "plot_bloch_multivector(sv)"
   ]
  },
  {
   "cell_type": "code",
   "execution_count": null,
   "metadata": {},
   "outputs": [],
   "source": [
    "print (sv.real)"
   ]
  },
  {
   "cell_type": "code",
   "execution_count": null,
   "metadata": {},
   "outputs": [],
   "source": [
    "qft(qc, 3)\n",
    "qc.draw('mpl')"
   ]
  },
  {
   "cell_type": "code",
   "execution_count": null,
   "metadata": {},
   "outputs": [],
   "source": [
    "sv = execute(qc, backend=backend).result().get_statevector()\n",
    "plot_bloch_multivector(sv)\n"
   ]
  },
  {
   "cell_type": "code",
   "execution_count": null,
   "metadata": {
    "scrolled": true
   },
   "outputs": [],
   "source": [
    "print ('The statevectors are:\\n', sv.round(1))\n",
    "print ('Angle subtended by each states (as a factor of pi):\\n',(np.angle(sv)/np.pi).round(2))\n"
   ]
  },
  {
   "cell_type": "markdown",
   "metadata": {},
   "source": [
    "We can see our QFT function has worked correctly. Compared the the state  $\\vert 0 \\rangle= \\vert+++\\rangle$ , Qubit $0$ has been rotated by  $5/8$  of a full turn, qubit $1$ by  $10 /8$  full turns (equivalent to  $1/4$  of a full turn), and qubit $2$ by  $20/8$  full turns (equivalent to  $1/2$  of a full turn).\n",
    "### yesma hamile diyeko ko input 5(101) thaha pauna sakinxa yesko rotation herera main kura"
   ]
  },
  {
   "cell_type": "markdown",
   "metadata": {},
   "source": [
    "## Inverse Fourier Transform"
   ]
  },
  {
   "cell_type": "code",
   "execution_count": null,
   "metadata": {},
   "outputs": [],
   "source": [
    "def inverse_qft(circuit, n):\n",
    "    \"\"\"Does the inverse QFT on the first n qubits in circuit\"\"\"\n",
    "    # First we create a QFT circuit of the correct size:\n",
    "    qft_circ = qft(QuantumCircuit(n), n)\n",
    "    # Then we take the inverse of this circuit\n",
    "    invqft_circ = qft_circ.inverse()\n",
    "    # And add it to the first n qubits in our existing circuit\n",
    "    circuit.append(invqft_circ, circuit.qubits[:n])\n",
    "    return circuit.decompose() # .decompose() allows us to see the individual gates"
   ]
  },
  {
   "cell_type": "code",
   "execution_count": null,
   "metadata": {},
   "outputs": [],
   "source": [
    "nqubits = 3\n",
    "number = 5\n",
    "qc = QuantumCircuit(nqubits)\n",
    "for qubit in range(nqubits):\n",
    "    qc.h(qubit)\n",
    "qc.p(number*pi/4,0)\n",
    "qc.p(number*pi/2,1)\n",
    "qc.p(number*pi,2)\n",
    "\n",
    "qc.draw(\"mpl\")"
   ]
  },
  {
   "cell_type": "code",
   "execution_count": null,
   "metadata": {},
   "outputs": [],
   "source": [
    "backend = Aer.get_backend(\"statevector_simulator\")\n",
    "sv = execute(qc, backend=backend).result().get_statevector()\n",
    "plot_bloch_multivector(sv)"
   ]
  },
  {
   "cell_type": "code",
   "execution_count": null,
   "metadata": {},
   "outputs": [],
   "source": [
    "\n",
    "print ('The statevectors are:\\n', sv.round(1))\n",
    "print ('Angle subtended by each states (as a factor of pi):\\n',(np.angle(sv)/np.pi).round(2))\n"
   ]
  },
  {
   "cell_type": "code",
   "execution_count": null,
   "metadata": {},
   "outputs": [],
   "source": [
    "qc = inverse_qft(qc,nqubits)\n",
    "qc.measure_all()\n",
    "qc.draw('mpl')"
   ]
  },
  {
   "cell_type": "code",
   "execution_count": null,
   "metadata": {},
   "outputs": [],
   "source": [
    "from qiskit.visualization import plot_histogram\n",
    "simulator = Aer.get_backend('qasm_simulator')\n",
    "counts = execute(qc, backend=simulator, shots=1000).result().get_counts(qc)\n",
    "plot_histogram(counts)"
   ]
  },
  {
   "cell_type": "markdown",
   "metadata": {},
   "source": [
    "References\n",
    "1. https://www.youtube.com/watch?v=pq2jkfJlLmY&ab_channel=Qiskit\n",
    "2. https://qiskit.org/learn/intro-qc-qh/\n",
    "3. https://qiskit.org/textbook/ch-algorithms/quantum-fourier-transform.html"
   ]
  },
  {
   "cell_type": "code",
   "execution_count": null,
   "metadata": {},
   "outputs": [],
   "source": []
  }
 ],
 "metadata": {
  "kernelspec": {
   "display_name": "Python 3",
   "language": "python",
   "name": "python3"
  },
  "language_info": {
   "codemirror_mode": {
    "name": "ipython",
    "version": 3
   },
   "file_extension": ".py",
   "mimetype": "text/x-python",
   "name": "python",
   "nbconvert_exporter": "python",
   "pygments_lexer": "ipython3",
   "version": "3.8.5"
  },
  "latex_envs": {
   "LaTeX_envs_menu_present": true,
   "autoclose": false,
   "autocomplete": true,
   "bibliofile": "biblio.bib",
   "cite_by": "apalike",
   "current_citInitial": 1,
   "eqLabelWithNumbers": true,
   "eqNumInitial": 1,
   "hotkeys": {
    "equation": "Ctrl-E",
    "itemize": "Ctrl-I"
   },
   "labels_anchors": false,
   "latex_user_defs": false,
   "report_style_numbering": false,
   "user_envs_cfg": false
  },
  "nbTranslate": {
   "displayLangs": [
    "*"
   ],
   "hotkey": "alt-t",
   "langInMainMenu": true,
   "sourceLang": "en",
   "targetLang": "fr",
   "useGoogleTranslate": true
  },
  "toc": {
   "base_numbering": 1,
   "nav_menu": {},
   "number_sections": true,
   "sideBar": true,
   "skip_h1_title": false,
   "title_cell": "Table of Contents",
   "title_sidebar": "Contents",
   "toc_cell": false,
   "toc_position": {},
   "toc_section_display": true,
   "toc_window_display": false
  },
  "varInspector": {
   "cols": {
    "lenName": 16,
    "lenType": 16,
    "lenVar": 40
   },
   "kernels_config": {
    "python": {
     "delete_cmd_postfix": "",
     "delete_cmd_prefix": "del ",
     "library": "var_list.py",
     "varRefreshCmd": "print(var_dic_list())"
    },
    "r": {
     "delete_cmd_postfix": ") ",
     "delete_cmd_prefix": "rm(",
     "library": "var_list.r",
     "varRefreshCmd": "cat(var_dic_list()) "
    }
   },
   "types_to_exclude": [
    "module",
    "function",
    "builtin_function_or_method",
    "instance",
    "_Feature"
   ],
   "window_display": false
  }
 },
 "nbformat": 4,
 "nbformat_minor": 2
}
